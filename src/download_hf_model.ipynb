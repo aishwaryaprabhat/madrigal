{
 "cells": [
  {
   "cell_type": "code",
   "execution_count": 1,
   "id": "9b6b9f36-63fd-47c2-a3ad-1383248eac72",
   "metadata": {},
   "outputs": [
    {
     "data": {
      "text/plain": [
       "('smollm2_model/tokenizer_config.json',\n",
       " 'smollm2_model/special_tokens_map.json',\n",
       " 'smollm2_model/vocab.json',\n",
       " 'smollm2_model/merges.txt',\n",
       " 'smollm2_model/added_tokens.json',\n",
       " 'smollm2_model/tokenizer.json')"
      ]
     },
     "execution_count": 1,
     "metadata": {},
     "output_type": "execute_result"
    }
   ],
   "source": [
    "import mlflow\n",
    "import torch\n",
    "from transformers import AutoModelForCausalLM, AutoTokenizer\n",
    "from mlflow.models import infer_signature\n",
    "\n",
    "# Define Model Name and MLflow Tracking URI\n",
    "HF_MODEL_NAME = \"HuggingFaceTB/SmolLM2-360M-Instruct\"  # Model from Hugging Face\n",
    "MLFLOW_TRACKING_URI = \"http://localhost:5000\"  # Adjust if MLflow is running elsewhere\n",
    "\n",
    "# Set MLflow Tracking Server\n",
    "mlflow.set_tracking_uri(MLFLOW_TRACKING_URI)\n",
    "\n",
    "# Load Model and Tokenizer from Hugging Face\n",
    "model = AutoModelForCausalLM.from_pretrained(HF_MODEL_NAME)\n",
    "tokenizer = AutoTokenizer.from_pretrained(HF_MODEL_NAME)\n",
    "\n",
    "# Save Model Locally Before Logging to MLflow\n",
    "MODEL_DIR = \"smollm2_model\"\n",
    "model.save_pretrained(MODEL_DIR)\n",
    "tokenizer.save_pretrained(MODEL_DIR)"
   ]
  },
  {
   "cell_type": "code",
   "execution_count": 5,
   "id": "74dda742-7fd7-4e02-8d4c-1f2486887ceb",
   "metadata": {},
   "outputs": [],
   "source": [
    "import os\n",
    "\n",
    "os.environ[\"MLFLOW_HTTP_REQUEST_MAX_SIZE\"] = str(256 * 1024 * 1024)  # 256MB\n",
    "os.environ[\"MLFLOW_UPLOAD_BUFFER_SIZE\"] = str(128 * 1024 * 1024)  # 128MB\n",
    "os.environ[\"MLFLOW_MAX_ARTIFACT_SIZE\"] = str(1 * 1024 * 1024 * 1024)  # 1GB\n",
    "os.environ[\"MLFLOW_HTTP_REQUEST_TIMEOUT\"] = \"600\"  # 10 minutes\n",
    "os.environ[\"MLFLOW_TCP_KEEPALIVE\"] = \"1\""
   ]
  },
  {
   "cell_type": "code",
   "execution_count": 7,
   "id": "f9eb2bba-9882-4cbd-af7e-cb3f69903cd4",
   "metadata": {},
   "outputs": [
    {
     "name": "stderr",
     "output_type": "stream",
     "text": [
      "2025/01/22 00:40:46 INFO mlflow.tracking.fluent: Experiment with name 'SmolLM2-360M-Instruct' does not exist. Creating a new experiment.\n"
     ]
    },
    {
     "name": "stdout",
     "output_type": "stream",
     "text": [
      "✅ Model 'HuggingFaceTB/SmolLM2-360M-Instruct' successfully saved and logged as artifacts in MLflow!\n",
      "🧪 Experiment: SmolLM2-360M-Instruct\n",
      "📌 Run Name: HuggingFaceTB-SmolLM2\n",
      "🔗 Run ID: cd70efaaea824cf280ad266a88475579\n",
      "🏃 View run HuggingFaceTB-SmolLM2 at: http://localhost:5000/#/experiments/1/runs/cd70efaaea824cf280ad266a88475579\n",
      "🧪 View experiment at: http://localhost:5000/#/experiments/1\n"
     ]
    }
   ],
   "source": [
    "# Define Experiment Name (Matching Hugging Face Model Name)\n",
    "EXPERIMENT_NAME = \"SmolLM2-360M-Instruct\"\n",
    "RUN_NAME = \"HuggingFaceTB-SmolLM2\"\n",
    "\n",
    "# Create (or Get) Experiment in MLflow\n",
    "mlflow.set_experiment(EXPERIMENT_NAME)\n",
    "\n",
    "\n",
    "with mlflow.start_run(run_name=RUN_NAME) as run:\n",
    "    # Log Model Directory as Artifacts\n",
    "    mlflow.log_artifacts(MODEL_DIR, artifact_path=\"smollm2_artifacts\")\n",
    "\n",
    "    print(f\"✅ Model '{HF_MODEL_NAME}' successfully saved and logged as artifacts in MLflow!\")\n",
    "    print(f\"🧪 Experiment: {EXPERIMENT_NAME}\")\n",
    "    print(f\"📌 Run Name: {RUN_NAME}\")\n",
    "    print(f\"🔗 Run ID: {run.info.run_id}\")"
   ]
  },
  {
   "cell_type": "code",
   "execution_count": null,
   "id": "f162a25e-3fa1-4db1-8290-8d8d259ccedc",
   "metadata": {},
   "outputs": [],
   "source": []
  }
 ],
 "metadata": {
  "kernelspec": {
   "display_name": "Python 3 (ipykernel)",
   "language": "python",
   "name": "python3"
  },
  "language_info": {
   "codemirror_mode": {
    "name": "ipython",
    "version": 3
   },
   "file_extension": ".py",
   "mimetype": "text/x-python",
   "name": "python",
   "nbconvert_exporter": "python",
   "pygments_lexer": "ipython3",
   "version": "3.11.11"
  }
 },
 "nbformat": 4,
 "nbformat_minor": 5
}
