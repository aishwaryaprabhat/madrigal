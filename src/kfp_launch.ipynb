{
 "cells": [
  {
   "cell_type": "code",
   "execution_count": 1,
   "id": "78679f3c-3d62-4a75-ab8b-149e6f722653",
   "metadata": {},
   "outputs": [],
   "source": [
    "!python distrt_pipeline.py"
   ]
  },
  {
   "cell_type": "code",
   "execution_count": 2,
   "id": "6ae3e8ec-9b2e-44b4-a645-f19ff23afc95",
   "metadata": {},
   "outputs": [
    {
     "name": "stdout",
     "output_type": "stream",
     "text": [
      "Updating existing pipeline: madrigal_pipeline\n"
     ]
    },
    {
     "name": "stderr",
     "output_type": "stream",
     "text": [
      "/root/miniconda3/envs/venv/lib/python3.11/site-packages/kfp/client/client.py:159: FutureWarning: This client only works with Kubeflow Pipeline v2.0.0-beta.2 and later versions.\n",
      "  warnings.warn(\n"
     ]
    },
    {
     "data": {
      "text/html": [
       "<a href=\"http://localhost:8888/#/pipelines/details/e9e47a65-41af-4733-b5f5-a459bc5b478e/version/cb6e77a3-2141-4c11-9042-dd5b1760e3f9\" target=\"_blank\" >Pipeline details</a>."
      ],
      "text/plain": [
       "<IPython.core.display.HTML object>"
      ]
     },
     "metadata": {},
     "output_type": "display_data"
    }
   ],
   "source": [
    "from kfp.compiler import Compiler\n",
    "from kfp.client import Client\n",
    "from distrt_pipeline import madrigal_pipeline\n",
    "import time\n",
    "\n",
    "KUBEFLOW_PIPELINES_URL = \"http://localhost:8888\" #exposed using kubectl -n kubeflow port-forward svc/ml-pipeline 8888 &\n",
    "PIPELINE_NAME = \"madrigal_pipeline\"\n",
    "PIPELINE_FILE = \"madrigal_pipeline.yaml\"\n",
    "EXPERIMENT_NAME = \"madrigal_experiment\"\n",
    "\n",
    "client = Client(host=KUBEFLOW_PIPELINES_URL)\n",
    "\n",
    "# Compile pipeline\n",
    "Compiler().compile(pipeline_func=madrigal_pipeline, package_path=PIPELINE_FILE)\n",
    "\n",
    "# Get existing pipeline ID\n",
    "existing_pipelines = client.list_pipelines().pipelines or []\n",
    "pipeline_id = next((p.pipeline_id for p in existing_pipelines if p.display_name == PIPELINE_NAME), None)\n",
    "\n",
    "if pipeline_id:\n",
    "    # Update pipeline version instead of re-creating\n",
    "    print(f\"Updating existing pipeline: {PIPELINE_NAME}\")\n",
    "    pipeline_version_name = f\"{PIPELINE_NAME}_v{int(time.time())}\"  # Unique version name\n",
    "    pipeline_version = client.upload_pipeline_version(\n",
    "        pipeline_package_path=PIPELINE_FILE,\n",
    "        pipeline_version_name=pipeline_version_name,\n",
    "        pipeline_id=pipeline_id\n",
    "    )\n",
    "    version_id = pipeline_version.pipeline_version_id  # Corrected attribute\n",
    "else:\n",
    "    # Create new pipeline if it doesn't exist\n",
    "    print(f\"Creating new pipeline: {PIPELINE_NAME}\")\n",
    "    pipeline = client.upload_pipeline(PIPELINE_FILE, pipeline_name=PIPELINE_NAME)\n",
    "    pipeline_id = pipeline.pipeline_id\n",
    "    version_id = pipeline.default_version.pipeline_version_id  # Corrected attribute\n",
    "\n",
    "# Get or create experiment\n",
    "experiments = client.list_experiments().experiments or []\n",
    "experiment = next((e for e in experiments if e.display_name == EXPERIMENT_NAME), None) or \\\n",
    "             client.create_experiment(name=EXPERIMENT_NAME)"
   ]
  },
  {
   "cell_type": "code",
   "execution_count": 4,
   "id": "4dfbdd80-54c6-4753-aef4-4435096d6bea",
   "metadata": {},
   "outputs": [
    {
     "name": "stdout",
     "output_type": "stream",
     "text": [
      "Launching pipeline run for pipeline_id=e9e47a65-41af-4733-b5f5-a459bc5b478e, version_id=cb6e77a3-2141-4c11-9042-dd5b1760e3f9\n"
     ]
    },
    {
     "data": {
      "text/html": [
       "<a href=\"http://localhost:8888/#/runs/details/5fbf1eb2-77c2-4169-8181-617d0fd72c18\" target=\"_blank\" >Run details</a>."
      ],
      "text/plain": [
       "<IPython.core.display.HTML object>"
      ]
     },
     "metadata": {},
     "output_type": "display_data"
    },
    {
     "name": "stdout",
     "output_type": "stream",
     "text": [
      "✅ Pipeline run started: 5fbf1eb2-77c2-4169-8181-617d0fd72c18\n"
     ]
    }
   ],
   "source": [
    "# Launch new pipeline run with both pipeline_id and version_id\n",
    "print(f\"Launching pipeline run for pipeline_id={pipeline_id}, version_id={version_id}\")\n",
    "run = client.run_pipeline(\n",
    "    experiment_id=experiment.experiment_id,\n",
    "    job_name=f\"{PIPELINE_NAME}_run\",\n",
    "    pipeline_id=pipeline_id,\n",
    "    version_id=version_id,\n",
    "    enable_caching=False\n",
    ")\n",
    "\n",
    "print(f\"✅ Pipeline run started: {run.run_id}\")"
   ]
  },
  {
   "cell_type": "code",
   "execution_count": null,
   "id": "3afb7ff5-0a30-4710-8a3b-d36ae4899ee0",
   "metadata": {},
   "outputs": [],
   "source": []
  }
 ],
 "metadata": {
  "kernelspec": {
   "display_name": "Python 3 (ipykernel)",
   "language": "python",
   "name": "python3"
  },
  "language_info": {
   "codemirror_mode": {
    "name": "ipython",
    "version": 3
   },
   "file_extension": ".py",
   "mimetype": "text/x-python",
   "name": "python",
   "nbconvert_exporter": "python",
   "pygments_lexer": "ipython3",
   "version": "3.11.11"
  }
 },
 "nbformat": 4,
 "nbformat_minor": 5
}
